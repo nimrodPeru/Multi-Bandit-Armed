{
  "nbformat": 4,
  "nbformat_minor": 0,
  "metadata": {
    "colab": {
      "name": "Tarea_Bandido_Multibrazo.ipynb",
      "provenance": [],
      "include_colab_link": true
    },
    "kernelspec": {
      "name": "python3",
      "display_name": "Python 3"
    }
  },
  "cells": [
    {
      "cell_type": "markdown",
      "metadata": {
        "id": "view-in-github",
        "colab_type": "text"
      },
      "source": [
        "<a href=\"https://colab.research.google.com/github/nimrodPeru/Multi-Bandit-Armed/blob/master/Tarea_Bandido_Multibrazo.ipynb\" target=\"_parent\"><img src=\"https://colab.research.google.com/assets/colab-badge.svg\" alt=\"Open In Colab\"/></a>"
      ]
    },
    {
      "cell_type": "markdown",
      "metadata": {
        "id": "TvFZ77jxZnG3"
      },
      "source": [
        "# Introducción al Aprendizaje Reforzado\n",
        "## Práctica # 1\n",
        "Bandido Multibrazo para 10 Máquinas"
      ]
    },
    {
      "cell_type": "code",
      "metadata": {
        "id": "bAi9xhQ-ZZKz"
      },
      "source": [
        "import numpy as np\n",
        "import numpy.random as rnd"
      ],
      "execution_count": 1,
      "outputs": []
    },
    {
      "cell_type": "code",
      "metadata": {
        "id": "K4lmTogkZltZ"
      },
      "source": [
        "SEED = 2020\n",
        "LIMITE_MONEDAS = 1000\n",
        "NUMERO_MAQUINAS = 10\n",
        "\n",
        "class Maquina:\n",
        "\n",
        "  def __init__(self, k, mu, sigma):\n",
        "    #np.random.seed(seed=SEED)\n",
        "    self.k = k\n",
        "    self.resultados = rnd.normal(mu, sigma, LIMITE_MONEDAS)\n",
        "\n",
        "  def insertar_moneda(self):\n",
        "    try:\n",
        "      valor, self.resultados = self.resultados[-1], self.resultados[:-1]\n",
        "    except:\n",
        "      raise ValueError('La máquina %d está fuera de servicio' % self.k)\n",
        "      #print(\"Excepcion\")\n",
        "      #valor = np.random.choice(self.k)\n",
        "\n",
        "    return valor\n",
        "\n",
        "class Casino:\n",
        "\n",
        "  def __init__(self, numero_maquinas):\n",
        "    self.numero_maquinas = numero_maquinas\n",
        "    self.maquinas = [Maquina(i+1, rnd.normal(), rnd.uniform(1,10)) for i in range(0,numero_maquinas)]\n",
        "  def apostar(self, maquina):\n",
        "    if maquina < 1 or maquina > self.numero_maquinas:\n",
        "      raise ValueError('El casino no cuenta con esa máquina')\n",
        "    return self.maquinas[maquina-1].insertar_moneda()"
      ],
      "execution_count": 2,
      "outputs": []
    },
    {
      "cell_type": "code",
      "metadata": {
        "id": "cNs2e52ocNoh",
        "outputId": "9981727b-3fff-4108-accc-cabe955b1762",
        "colab": {
          "base_uri": "https://localhost:8080/",
          "height": 34
        }
      },
      "source": [
        "# El casino cuenta con 10 máquinas\n",
        "# La primera máquina es la 1 y la última es la 10\n",
        "# Cada máquina sólo soporta máximo 1000 apuestas\n",
        "casino = Casino(NUMERO_MAQUINAS)\n",
        "\n",
        "# Ejemplo:\n",
        "# Para apostar por la máquina 1\n",
        "print (casino.apostar(1))"
      ],
      "execution_count": 3,
      "outputs": [
        {
          "output_type": "stream",
          "text": [
            "0.23249256872111568\n"
          ],
          "name": "stdout"
        }
      ]
    },
    {
      "cell_type": "code",
      "metadata": {
        "id": "nwB6TuDZzcW-",
        "outputId": "5fa5171f-4461-4185-c16b-23711d0ad11b",
        "colab": {
          "base_uri": "https://localhost:8080/",
          "height": 309
        }
      },
      "source": [
        "'''\n",
        "NCM\n",
        "DESARROLLADO EN CLASE\n",
        "'''\n",
        "SEED = 2020\n",
        "LIMITE_MONEDAS = 100\n",
        "NUMERO_MAQUINAS = 10\n",
        "\n",
        "Q_v = np.zeros((NUMERO_MAQUINAS))\n",
        "R_v = np.zeros((NUMERO_MAQUINAS))\n",
        "V_v = np.zeros((NUMERO_MAQUINAS))\n",
        "# Implementación basica -> promedio\n",
        "\n",
        "#epsilon=0.1\n",
        "epsilon_arreglo = [0,0.01,0.1,0.3,0.9]\n",
        "for epsilon in epsilon_arreglo:\n",
        " \n",
        " # Epsilon-Codicioso\n",
        " for i in range(LIMITE_MONEDAS):\n",
        "    #print (i)\n",
        "    probabilidad = rnd.random() # [0,1)\n",
        "    if probabilidad <= epsilon:\n",
        "       # Explorar\n",
        "        maquina = np.random.random_integers(0, NUMERO_MAQUINAS-1)\n",
        "    else:\n",
        "       # Explotar\n",
        "        maquina = int(np.argmax(Q_v))\n",
        "    R = casino.apostar(maquina+1)\n",
        "    R_v[maquina] = R_v[maquina] + R\n",
        "    V_v[maquina] = V_v[maquina] + 1 # Cuantas veces he apostado\n",
        "    Q_v[maquina] = R_v[maquina] / V_v[maquina] # Valor estimado  \n",
        "    #print (Q_v)\n",
        "    if i % 100 == 0:\n",
        "      print('Recompensa promedio para bandidos en {} de monedas es {}'.format(i,\n",
        "                                  ['{:.2f}'.format(elem) for elem in Q_v]))\n",
        "\n",
        " best_bandit = np.argmax(Q_v)\n",
        " print('\\nEl mejor Bandido {} con un promedio de recompensa observada de {:.4f} con eps {:.2f}'\n",
        "  .format(best_bandit, Q_v[best_bandit], epsilon))\n",
        "    #print(f\"maquina: {best_bandit} {Q_v[best_bandit]}\") \n",
        "    #print(best_bandit)\n"
      ],
      "execution_count": 4,
      "outputs": [
        {
          "output_type": "stream",
          "text": [
            "Recompensa promedio para bandidos en 0 de monedas es ['2.89', '0.00', '0.00', '0.00', '0.00', '0.00', '0.00', '0.00', '0.00', '0.00']\n",
            "\n",
            "El mejor Bandido 0 con un promedio de recompensa observada de 1.0632 con eps 0.00\n",
            "Recompensa promedio para bandidos en 0 de monedas es ['1.01', '0.00', '0.00', '0.00', '0.00', '0.00', '0.00', '0.00', '0.00', '0.00']\n",
            "\n",
            "El mejor Bandido 0 con un promedio de recompensa observada de 1.1142 con eps 0.01\n",
            "Recompensa promedio para bandidos en 0 de monedas es ['1.11', '0.00', '0.00', '0.00', '0.00', '0.79', '0.00', '0.00', '0.00', '0.00']\n",
            "\n",
            "El mejor Bandido 0 con un promedio de recompensa observada de 1.0795 con eps 0.10\n",
            "Recompensa promedio para bandidos en 0 de monedas es ['1.09', '0.00', '0.00', '0.00', '0.00', '0.79', '0.91', '0.00', '0.00', '0.96']\n",
            "\n",
            "El mejor Bandido 6 con un promedio de recompensa observada de 1.4341 con eps 0.30\n",
            "Recompensa promedio para bandidos en 0 de monedas es ['1.07', '0.28', '-6.22', '-0.51', '-5.95', '-2.84', '1.43', '-1.71', '1.04', '0.57']\n",
            "\n",
            "El mejor Bandido 3 con un promedio de recompensa observada de 1.5640 con eps 0.90\n"
          ],
          "name": "stdout"
        },
        {
          "output_type": "stream",
          "text": [
            "/usr/local/lib/python3.6/dist-packages/ipykernel_launcher.py:24: DeprecationWarning: This function is deprecated. Please call randint(0, 9 + 1) instead\n"
          ],
          "name": "stderr"
        }
      ]
    },
    {
      "cell_type": "markdown",
      "metadata": {
        "id": "Ap2VpXjHmdwd"
      },
      "source": [
        "# Ejercicio\n",
        "Teniendo en cuenta que sólo cuenta con 1000 monedas y que cada apuesta cuesta 1 moneda: \n",
        "Calcular el valor estimado ***Q(a)*** de cada máquina, para tomar la mejor decisión de inversión en el casino.\n",
        "\n",
        "Repetir el algoritmo utilizando el método epsilon codicioso, con epsilon igual a:\n",
        "\n",
        "\n",
        "*   e = 0\n",
        "*   e = 0.01\n",
        "*   e = 0.1\n",
        "*   e = 0.3\n",
        "*   e = 0.9\n",
        "\n",
        "\n",
        "\n",
        "\n",
        "Graficar la distribución de cada máquina utilizando la media (valor estimado) y la desviación estándar.\n",
        "\n",
        "Graficar la ganancia promedio en el tiempo comparando cada valor de epsilon.\n",
        "\n"
      ]
    }
  ]
}